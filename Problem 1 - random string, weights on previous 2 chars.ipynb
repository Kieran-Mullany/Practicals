{
 "cells": [
  {
   "cell_type": "markdown",
   "id": "accbe0a9",
   "metadata": {},
   "source": [
    "To generate a random string, character by character, weighted on last generated characters in output string\n",
    "Exercise is to adapt the code from lecture\n"
   ]
  },
  {
   "cell_type": "code",
   "execution_count": 1,
   "id": "ccdfd708",
   "metadata": {},
   "outputs": [],
   "source": [
    "import urllib.request\n",
    "book_url = 'https://www.gutenberg.org/files/11/11-0.txt'\n",
    "book = list(urllib.request.urlopen(book_url))\n",
    "book = [line.decode('utf-8-sig').strip() for line in book]\n",
    "chars = 'abcdefghijklmnopqrstuvwxyz '"
   ]
  },
  {
   "cell_type": "code",
   "execution_count": 2,
   "id": "2d7fc065",
   "metadata": {},
   "outputs": [],
   "source": [
    "import random"
   ]
  },
  {
   "cell_type": "code",
   "execution_count": 3,
   "id": "ad21d867",
   "metadata": {},
   "outputs": [],
   "source": [
    "sbook = ''.join(book[26:]).lower()"
   ]
  },
  {
   "cell_type": "code",
   "execution_count": 4,
   "id": "c213baa1",
   "metadata": {},
   "outputs": [],
   "source": [
    "threeghts = {c: {d: {e: sbook.count(c+d+e) for e in chars} for d in chars} for c in chars}"
   ]
  },
  {
   "cell_type": "code",
   "execution_count": 5,
   "id": "091eb69a",
   "metadata": {},
   "outputs": [
    {
     "data": {
      "text/plain": [
       "{'a': 1,\n",
       " 'b': 3,\n",
       " 'c': 3,\n",
       " 'd': 32,\n",
       " 'e': 0,\n",
       " 'f': 1,\n",
       " 'g': 1,\n",
       " 'h': 0,\n",
       " 'i': 1,\n",
       " 'j': 0,\n",
       " 'k': 7,\n",
       " 'l': 29,\n",
       " 'm': 58,\n",
       " 'n': 146,\n",
       " 'o': 0,\n",
       " 'p': 56,\n",
       " 'q': 0,\n",
       " 'r': 24,\n",
       " 's': 13,\n",
       " 't': 26,\n",
       " 'u': 0,\n",
       " 'v': 0,\n",
       " 'w': 0,\n",
       " 'x': 2,\n",
       " 'y': 0,\n",
       " 'z': 14,\n",
       " ' ': 101}"
      ]
     },
     "execution_count": 5,
     "metadata": {},
     "output_type": "execute_result"
    }
   ],
   "source": [
    "threeghts['e']['e']"
   ]
  },
  {
   "cell_type": "markdown",
   "id": "3ce21d19",
   "metadata": {},
   "source": [
    "looks good, example 'ee' followed by n,' ',m  -> makes sense!"
   ]
  },
  {
   "cell_type": "code",
   "execution_count": 6,
   "id": "ee1e5306",
   "metadata": {},
   "outputs": [],
   "source": [
    "string = 'ee'\n",
    "for i in range(1000):\n",
    "    wt = threeghts[string[-2]][string[-1]]\n",
    "    nextc = random.choices(chars, weights=wt.values(), k=1)[0] \n",
    "    string = string + nextc "
   ]
  },
  {
   "cell_type": "code",
   "execution_count": 7,
   "id": "abded558",
   "metadata": {},
   "outputs": [
    {
     "data": {
      "text/plain": [
       "'eenowe fat is said a nowner sheblen ke anyou cullar was ad se was and alice the fouldied way he thated lied the joindis sabou prabound use and ness noseed she how that alk athersethe samed thring prousto she sounateof pagand the wink mannythould not and firstles dit right ther begrou ow had on ile frosell thinking bereeliverpid of read he prowwwwhasts itted as wou shery cat aclud the ting uptereve whey thaturstre thatim thissin to shery was opeagavan a pight wased to thews shown oh andow a fould he thead the the dow voing witestry brow it tund saing ther catchoung the hippoo talithe by renbergeopyried ong only a so toperabbing said migzartle quiter dif a he magry sectrone dody muchandeat wed tand ond said thatery i sored and hand ideet cooper ithe liked tre offorypep ing is nory i to ther shaverge knottion firseen tence getted a falice quet wasirs ento he sait bou kingooke cast off if my annythere losted jum day sest her thattleattioughter to had elf you loothe elly cand to sain ve ferie'"
      ]
     },
     "execution_count": 7,
     "metadata": {},
     "output_type": "execute_result"
    }
   ],
   "source": [
    "string"
   ]
  },
  {
   "cell_type": "code",
   "execution_count": 8,
   "id": "ec76807f",
   "metadata": {},
   "outputs": [
    {
     "data": {
      "text/plain": [
       "1002"
      ]
     },
     "execution_count": 8,
     "metadata": {},
     "output_type": "execute_result"
    }
   ],
   "source": [
    "len(string)"
   ]
  },
  {
   "cell_type": "markdown",
   "id": "97212f31",
   "metadata": {},
   "source": [
    "started a new branch to experiment (07/10/22)"
   ]
  },
  {
   "cell_type": "markdown",
   "id": "8c8e6aad",
   "metadata": {},
   "source": [
    "How do I extract words from the book and use them like above?\n",
    "sbook is all the text in lower case"
   ]
  },
  {
   "cell_type": "code",
   "execution_count": 9,
   "id": "c787a648",
   "metadata": {},
   "outputs": [],
   "source": [
    "#paragraph = sbook[1:100]\n",
    "#words = [paragraph.count(w) for w in paragraph]\n",
    "#print(w)"
   ]
  },
  {
   "cell_type": "code",
   "execution_count": 11,
   "id": "c0c900f0",
   "metadata": {},
   "outputs": [],
   "source": [
    "#type(words)"
   ]
  },
  {
   "cell_type": "markdown",
   "id": "117abd90",
   "metadata": {},
   "source": [
    "To find the highest occuring key in the dictionary for the start of the string.."
   ]
  },
  {
   "cell_type": "code",
   "execution_count": null,
   "id": "c364883c",
   "metadata": {},
   "outputs": [],
   "source": [
    "threeghts"
   ]
  },
  {
   "cell_type": "code",
   "execution_count": 24,
   "id": "0c188668",
   "metadata": {},
   "outputs": [
    {
     "ename": "TypeError",
     "evalue": "'>' not supported between instances of 'dict' and 'dict'",
     "output_type": "error",
     "traceback": [
      "\u001b[1;31m---------------------------------------------------------------------------\u001b[0m",
      "\u001b[1;31mTypeError\u001b[0m                                 Traceback (most recent call last)",
      "Input \u001b[1;32mIn [24]\u001b[0m, in \u001b[0;36m<cell line: 1>\u001b[1;34m()\u001b[0m\n\u001b[1;32m----> 1\u001b[0m max_key \u001b[38;5;241m=\u001b[39m \u001b[38;5;28;43mmax\u001b[39;49m\u001b[43m(\u001b[49m\u001b[43mthreeghts\u001b[49m\u001b[43m,\u001b[49m\u001b[43m \u001b[49m\u001b[43mkey\u001b[49m\u001b[43m \u001b[49m\u001b[38;5;241;43m=\u001b[39;49m\u001b[43m \u001b[49m\u001b[43mthreeghts\u001b[49m\u001b[38;5;241;43m.\u001b[39;49m\u001b[43mget\u001b[49m\u001b[43m)\u001b[49m\n",
      "\u001b[1;31mTypeError\u001b[0m: '>' not supported between instances of 'dict' and 'dict'"
     ]
    }
   ],
   "source": [
    "max_key = max(threeghts, key = threeghts.get)"
   ]
  },
  {
   "cell_type": "code",
   "execution_count": 26,
   "id": "dd4200d9",
   "metadata": {},
   "outputs": [],
   "source": [
    "dict = {'a':1, 'b':2, 'c':3}"
   ]
  },
  {
   "cell_type": "code",
   "execution_count": 27,
   "id": "7ac32fbc",
   "metadata": {},
   "outputs": [],
   "source": [
    "max_key = max(dict, key = dict.get)"
   ]
  },
  {
   "cell_type": "code",
   "execution_count": 28,
   "id": "7cc3e7b1",
   "metadata": {},
   "outputs": [
    {
     "data": {
      "text/plain": [
       "'c'"
      ]
     },
     "execution_count": 28,
     "metadata": {},
     "output_type": "execute_result"
    }
   ],
   "source": [
    "max_key"
   ]
  },
  {
   "cell_type": "code",
   "execution_count": 30,
   "id": "6219303e",
   "metadata": {},
   "outputs": [],
   "source": [
    "max_value = max(dict.values())"
   ]
  },
  {
   "cell_type": "code",
   "execution_count": 31,
   "id": "1178f6ed",
   "metadata": {},
   "outputs": [
    {
     "data": {
      "text/plain": [
       "3"
      ]
     },
     "execution_count": 31,
     "metadata": {},
     "output_type": "execute_result"
    }
   ],
   "source": [
    "max_value"
   ]
  },
  {
   "cell_type": "code",
   "execution_count": 33,
   "id": "d663f7ed",
   "metadata": {},
   "outputs": [],
   "source": [
    "max_key = max(dict, key=dict.get)"
   ]
  },
  {
   "cell_type": "code",
   "execution_count": 34,
   "id": "a1a18d9f",
   "metadata": {},
   "outputs": [
    {
     "data": {
      "text/plain": [
       "'c'"
      ]
     },
     "execution_count": 34,
     "metadata": {},
     "output_type": "execute_result"
    }
   ],
   "source": [
    "max_key"
   ]
  },
  {
   "cell_type": "code",
   "execution_count": 50,
   "id": "481815cf",
   "metadata": {},
   "outputs": [
    {
     "data": {
      "text/plain": [
       "33"
      ]
     },
     "execution_count": 50,
     "metadata": {},
     "output_type": "execute_result"
    }
   ],
   "source": [
    "##max((d[**]) for d in threeghts.values())\n",
    "\n",
    "threeghts['o']['o']['n']"
   ]
  },
  {
   "cell_type": "code",
   "execution_count": 46,
   "id": "f1c3790c",
   "metadata": {},
   "outputs": [
    {
     "name": "stdout",
     "output_type": "stream",
     "text": [
      "dict_keys(['a', 'b', 'c', 'd', 'e', 'f', 'g', 'h', 'i', 'j', 'k', 'l', 'm', 'n', 'o', 'p', 'q', 'r', 's', 't', 'u', 'v', 'w', 'x', 'y', 'z', ' '])\n"
     ]
    }
   ],
   "source": [
    "#to find max, need to loop through 3\n",
    "print(threeghts['a'].keys())"
   ]
  },
  {
   "cell_type": "code",
   "execution_count": 53,
   "id": "0ace8fd1",
   "metadata": {},
   "outputs": [
    {
     "data": {
      "text/plain": [
       "112"
      ]
     },
     "execution_count": 53,
     "metadata": {},
     "output_type": "execute_result"
    }
   ],
   "source": [
    "max((d['o']['o']) for d in threeghts.values())"
   ]
  },
  {
   "cell_type": "code",
   "execution_count": 51,
   "id": "58d4875d",
   "metadata": {},
   "outputs": [
    {
     "data": {
      "text/plain": [
       "dict_values([0, 0, 0, 45, 0, 7, 0, 0, 0, 0, 184, 23, 24, 33, 0, 9, 0, 63, 7, 39, 0, 0, 0, 0, 0, 0, 20])"
      ]
     },
     "execution_count": 51,
     "metadata": {},
     "output_type": "execute_result"
    }
   ],
   "source": [
    "threeghts['o']['o'].values()"
   ]
  },
  {
   "cell_type": "code",
   "execution_count": 58,
   "id": "23eb4168",
   "metadata": {},
   "outputs": [
    {
     "ename": "SyntaxError",
     "evalue": "invalid syntax (3682146834.py, line 1)",
     "output_type": "error",
     "traceback": [
      "\u001b[1;36m  Input \u001b[1;32mIn [58]\u001b[1;36m\u001b[0m\n\u001b[1;33m    max[threeghts[a][a].values() for a in chars]\u001b[0m\n\u001b[1;37m                                 ^\u001b[0m\n\u001b[1;31mSyntaxError\u001b[0m\u001b[1;31m:\u001b[0m invalid syntax\n"
     ]
    }
   ],
   "source": [
    "max[threeghts[a][a].values() for a in chars]"
   ]
  },
  {
   "cell_type": "code",
   "execution_count": 59,
   "id": "4604b80d",
   "metadata": {},
   "outputs": [
    {
     "ename": "SyntaxError",
     "evalue": "invalid syntax (1146922856.py, line 1)",
     "output_type": "error",
     "traceback": [
      "\u001b[1;36m  Input \u001b[1;32mIn [59]\u001b[1;36m\u001b[0m\n\u001b[1;33m    threeghts[max(threeghts, key=lambda v: threeghts[a][b] for a,b in chars)]\u001b[0m\n\u001b[1;37m                                                                           ^\u001b[0m\n\u001b[1;31mSyntaxError\u001b[0m\u001b[1;31m:\u001b[0m invalid syntax\n"
     ]
    }
   ],
   "source": [
    "threeghts[max(threeghts, key=lambda v: threeghts[a][b] for a,b in chars)]"
   ]
  },
  {
   "cell_type": "code",
   "execution_count": 61,
   "id": "a72b8d47",
   "metadata": {},
   "outputs": [],
   "source": [
    "twos = {c: {d: sbook.count(c+d) for d in chars} for c in chars}"
   ]
  },
  {
   "cell_type": "code",
   "execution_count": 67,
   "id": "15d23a83",
   "metadata": {},
   "outputs": [
    {
     "data": {
      "text/plain": [
       "1776"
      ]
     },
     "execution_count": 67,
     "metadata": {},
     "output_type": "execute_result"
    }
   ],
   "source": [
    "twos\n",
    "max(twos['a'].values())"
   ]
  },
  {
   "cell_type": "code",
   "execution_count": 68,
   "id": "9ffe7fb9",
   "metadata": {},
   "outputs": [
    {
     "data": {
      "text/plain": [
       "dict_values([0, 243, 208, 482, 1, 68, 220, 30, 752, 12, 131, 1018, 202, 1776, 3, 147, 0, 846, 944, 1345, 80, 178, 96, 12, 294, 5, 660])"
      ]
     },
     "execution_count": 68,
     "metadata": {},
     "output_type": "execute_result"
    }
   ],
   "source": [
    "twos['a'].values()"
   ]
  },
  {
   "cell_type": "code",
   "execution_count": 69,
   "id": "fc7b8c5e",
   "metadata": {},
   "outputs": [
    {
     "data": {
      "text/plain": [
       "1776"
      ]
     },
     "execution_count": 69,
     "metadata": {},
     "output_type": "execute_result"
    }
   ],
   "source": [
    "twos['a']['n']"
   ]
  },
  {
   "cell_type": "code",
   "execution_count": 75,
   "id": "79f2a082",
   "metadata": {},
   "outputs": [],
   "source": [
    "max_key = max(twos['a'], key=twos['a'].get)"
   ]
  },
  {
   "cell_type": "code",
   "execution_count": 76,
   "id": "0f2c41cb",
   "metadata": {},
   "outputs": [
    {
     "data": {
      "text/plain": [
       "'n'"
      ]
     },
     "execution_count": 76,
     "metadata": {},
     "output_type": "execute_result"
    }
   ],
   "source": [
    "max_key"
   ]
  },
  {
   "cell_type": "code",
   "execution_count": 79,
   "id": "d22c4e14",
   "metadata": {},
   "outputs": [
    {
     "name": "stdout",
     "output_type": "stream",
     "text": [
      "t\n"
     ]
    }
   ],
   "source": [
    "for x in chars:\n",
    "    max_key = max(twos[x], key=twos[x].get)\n",
    "print(max_key)\n",
    "    \n",
    "    "
   ]
  },
  {
   "cell_type": "code",
   "execution_count": 80,
   "id": "8cd280ac",
   "metadata": {},
   "outputs": [
    {
     "data": {
      "text/plain": [
       "1345"
      ]
     },
     "execution_count": 80,
     "metadata": {},
     "output_type": "execute_result"
    }
   ],
   "source": [
    "twos['a']['t']"
   ]
  },
  {
   "cell_type": "code",
   "execution_count": 81,
   "id": "6e85fb90",
   "metadata": {},
   "outputs": [
    {
     "ename": "SyntaxError",
     "evalue": "invalid syntax (3186043190.py, line 1)",
     "output_type": "error",
     "traceback": [
      "\u001b[1;36m  Input \u001b[1;32mIn [81]\u001b[1;36m\u001b[0m\n\u001b[1;33m    [max_key: max(twos[x], key=twos[x].get)\u001b[0m\n\u001b[1;37m            ^\u001b[0m\n\u001b[1;31mSyntaxError\u001b[0m\u001b[1;31m:\u001b[0m invalid syntax\n"
     ]
    }
   ],
   "source": [
    "[max_key: max(twos[x], key=twos[x].get)"
   ]
  },
  {
   "cell_type": "code",
   "execution_count": null,
   "id": "6b270711",
   "metadata": {},
   "outputs": [],
   "source": []
  }
 ],
 "metadata": {
  "kernelspec": {
   "display_name": "Python 3 (ipykernel)",
   "language": "python",
   "name": "python3"
  },
  "language_info": {
   "codemirror_mode": {
    "name": "ipython",
    "version": 3
   },
   "file_extension": ".py",
   "mimetype": "text/x-python",
   "name": "python",
   "nbconvert_exporter": "python",
   "pygments_lexer": "ipython3",
   "version": "3.9.13"
  }
 },
 "nbformat": 4,
 "nbformat_minor": 5
}

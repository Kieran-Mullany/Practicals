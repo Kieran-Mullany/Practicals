{
 "cells": [
  {
   "cell_type": "markdown",
   "id": "accbe0a9",
   "metadata": {},
   "source": [
    "To generate a random string, character by character, weighted on last generated characters in output string\n",
    "Exercise is to adapt the code from lecture\n"
   ]
  },
  {
   "cell_type": "code",
   "execution_count": 1,
   "id": "ccdfd708",
   "metadata": {},
   "outputs": [],
   "source": [
    "import urllib.request\n",
    "book_url = 'https://www.gutenberg.org/files/11/11-0.txt'\n",
    "book = list(urllib.request.urlopen(book_url))\n",
    "book = [line.decode('utf-8-sig').strip() for line in book]\n",
    "chars = 'abcdefghijklmnopqrstuvwxyz '"
   ]
  },
  {
   "cell_type": "code",
   "execution_count": 2,
   "id": "2d7fc065",
   "metadata": {},
   "outputs": [],
   "source": [
    "import random"
   ]
  },
  {
   "cell_type": "code",
   "execution_count": 3,
   "id": "ad21d867",
   "metadata": {},
   "outputs": [],
   "source": [
    "sbook = ''.join(book[26:]).lower()"
   ]
  },
  {
   "cell_type": "code",
   "execution_count": 4,
   "id": "c213baa1",
   "metadata": {},
   "outputs": [],
   "source": [
    "threeghts = {c: {d: {e: sbook.count(c+d+e) for e in chars} for d in chars} for c in chars}"
   ]
  },
  {
   "cell_type": "code",
   "execution_count": 5,
   "id": "091eb69a",
   "metadata": {},
   "outputs": [
    {
     "data": {
      "text/plain": [
       "{'a': 1,\n",
       " 'b': 3,\n",
       " 'c': 3,\n",
       " 'd': 32,\n",
       " 'e': 0,\n",
       " 'f': 1,\n",
       " 'g': 1,\n",
       " 'h': 0,\n",
       " 'i': 1,\n",
       " 'j': 0,\n",
       " 'k': 7,\n",
       " 'l': 29,\n",
       " 'm': 58,\n",
       " 'n': 146,\n",
       " 'o': 0,\n",
       " 'p': 56,\n",
       " 'q': 0,\n",
       " 'r': 24,\n",
       " 's': 13,\n",
       " 't': 26,\n",
       " 'u': 0,\n",
       " 'v': 0,\n",
       " 'w': 0,\n",
       " 'x': 2,\n",
       " 'y': 0,\n",
       " 'z': 14,\n",
       " ' ': 101}"
      ]
     },
     "execution_count": 5,
     "metadata": {},
     "output_type": "execute_result"
    }
   ],
   "source": [
    "threeghts['e']['e']"
   ]
  },
  {
   "cell_type": "markdown",
   "id": "3ce21d19",
   "metadata": {},
   "source": [
    "looks good, example 'ee' followed by n,' ',m  -> makes sense!"
   ]
  },
  {
   "cell_type": "code",
   "execution_count": 6,
   "id": "ee1e5306",
   "metadata": {},
   "outputs": [],
   "source": [
    "string = 'ee'\n",
    "for i in range(1000):\n",
    "    wt = threeghts[string[-2]][string[-1]]\n",
    "    nextc = random.choices(chars, weights=wt.values(), k=1)[0] \n",
    "    string = string + nextc "
   ]
  },
  {
   "cell_type": "code",
   "execution_count": 7,
   "id": "abded558",
   "metadata": {},
   "outputs": [
    {
     "data": {
      "text/plain": [
       "'eed geoponew mor quied up he saves bemst had of choorm iscater by she begutersty difund he ronche for here fold al thive herse eve ateaddly int youbbilse quiter happorybou ittled his thers so thet the kindthe they not witne butenbe sho coper quit he comeme leaked gravernaver oud a cronehen trand ve we the fring oth notill of thill the that all inurtle kedgind ite quit quicess quit itter sit oniumpooks niceplas oppereat cried to sevionly lice the behithen wehend nothe ance wenbeet a wit spold they the cryin aliand begid ting moust timentho maidly difuld the sid thinsentheand gookeenthenting lice cou fargety this off hed alithany wicaus hin you got hit haticauchis at ance conime tholatesne tectre sherypholy the fining said as curtin the gumbstchat to dontseensely tagging alit de thersely be and of the have waslack then to arm com dried the be gre begant yargeres yoult now and any sol said tohe en a th th the thissimmounds is upook the saithill theyesuch mou se knothe rearturpenly she mor s'"
      ]
     },
     "execution_count": 7,
     "metadata": {},
     "output_type": "execute_result"
    }
   ],
   "source": [
    "string"
   ]
  },
  {
   "cell_type": "code",
   "execution_count": 8,
   "id": "ec76807f",
   "metadata": {},
   "outputs": [
    {
     "data": {
      "text/plain": [
       "1002"
      ]
     },
     "execution_count": 8,
     "metadata": {},
     "output_type": "execute_result"
    }
   ],
   "source": [
    "len(string)"
   ]
  },
  {
   "cell_type": "code",
   "execution_count": null,
   "id": "7625ffb1",
   "metadata": {},
   "outputs": [],
   "source": []
  },
  {
   "cell_type": "code",
   "execution_count": null,
   "id": "248f6430",
   "metadata": {},
   "outputs": [],
   "source": []
  }
 ],
 "metadata": {
  "kernelspec": {
   "display_name": "Python 3 (ipykernel)",
   "language": "python",
   "name": "python3"
  },
  "language_info": {
   "codemirror_mode": {
    "name": "ipython",
    "version": 3
   },
   "file_extension": ".py",
   "mimetype": "text/x-python",
   "name": "python",
   "nbconvert_exporter": "python",
   "pygments_lexer": "ipython3",
   "version": "3.9.13"
  }
 },
 "nbformat": 4,
 "nbformat_minor": 5
}

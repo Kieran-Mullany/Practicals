{
 "cells": [
  {
   "cell_type": "markdown",
   "id": "f6caa74c",
   "metadata": {},
   "source": [
    "# Problem 2:\n",
    "## Explain why the Log of zero is undefined."
   ]
  },
  {
   "cell_type": "markdown",
   "id": "7da73333",
   "metadata": {},
   "source": [
    "### Definition of the Logarithm function:\n",
    "\n"
   ]
  },
  {
   "cell_type": "markdown",
   "id": "e1998b4b",
   "metadata": {},
   "source": [
    "The log function is the **inverse** of the exponential function."
   ]
  },
  {
   "cell_type": "markdown",
   "id": "a17b82e2",
   "metadata": {},
   "source": [
    "$log{_b}{x} = y$ means that $\\exists$ y so that $b^{y} = x$"
   ]
  },
  {
   "cell_type": "markdown",
   "id": "8dbbe58b",
   "metadata": {},
   "source": [
    "**Examples**\n",
    "\n",
    "$log{_2}{8} = 3$ means that $2^{3} = 8$"
   ]
  },
  {
   "cell_type": "markdown",
   "id": "399fb3d9",
   "metadata": {},
   "source": [
    "We can check this using Python's math module"
   ]
  },
  {
   "cell_type": "code",
   "execution_count": 17,
   "id": "9da77b81",
   "metadata": {},
   "outputs": [
    {
     "data": {
      "text/plain": [
       "3.0"
      ]
     },
     "execution_count": 17,
     "metadata": {},
     "output_type": "execute_result"
    }
   ],
   "source": [
    "import math\n",
    "math.log2(8)"
   ]
  },
  {
   "cell_type": "code",
   "execution_count": 18,
   "id": "20fe691a",
   "metadata": {},
   "outputs": [
    {
     "data": {
      "text/plain": [
       "8"
      ]
     },
     "execution_count": 18,
     "metadata": {},
     "output_type": "execute_result"
    }
   ],
   "source": [
    "2**3"
   ]
  },
  {
   "cell_type": "code",
   "execution_count": 20,
   "id": "5faa3799",
   "metadata": {},
   "outputs": [
    {
     "data": {
      "text/plain": [
       "True"
      ]
     },
     "execution_count": 20,
     "metadata": {},
     "output_type": "execute_result"
    }
   ],
   "source": [
    "math.log2(8) == 3"
   ]
  },
  {
   "cell_type": "markdown",
   "id": "28995626",
   "metadata": {},
   "source": [
    "So in this specific case this means:"
   ]
  },
  {
   "cell_type": "markdown",
   "id": "f48f515f",
   "metadata": {},
   "source": [
    "$log{_b}{0} = y$ means that $\\exists$ y so that $b^{y} = 0$"
   ]
  },
  {
   "cell_type": "code",
   "execution_count": 21,
   "id": "3cfc07e6",
   "metadata": {},
   "outputs": [
    {
     "ename": "ValueError",
     "evalue": "math domain error",
     "output_type": "error",
     "traceback": [
      "\u001b[1;31m---------------------------------------------------------------------------\u001b[0m",
      "\u001b[1;31mValueError\u001b[0m                                Traceback (most recent call last)",
      "\u001b[1;32m~\\AppData\\Local\\Temp/ipykernel_7180/3174919711.py\u001b[0m in \u001b[0;36m<module>\u001b[1;34m\u001b[0m\n\u001b[1;32m----> 1\u001b[1;33m \u001b[0mmath\u001b[0m\u001b[1;33m.\u001b[0m\u001b[0mlog2\u001b[0m\u001b[1;33m(\u001b[0m\u001b[1;36m0\u001b[0m\u001b[1;33m)\u001b[0m\u001b[1;33m\u001b[0m\u001b[1;33m\u001b[0m\u001b[0m\n\u001b[0m",
      "\u001b[1;31mValueError\u001b[0m: math domain error"
     ]
    }
   ],
   "source": [
    "# To show that the Log of zero is undefined in Python\n",
    "math.log2(0)"
   ]
  },
  {
   "cell_type": "markdown",
   "id": "e4405ea8",
   "metadata": {},
   "source": [
    "For the log of zero to be defined there must be an exponent which brings a number to zero:\n",
    "We know that a positive exponent of any number increases the number and a number to the power of zero equals 1 so the number must be negative.\n",
    "A negative power will mean the number is now less than or equal to 1.\n",
    "As the power increased towards negative infinity, the number approaches 0\n",
    "But infinity is undefined and the number gets closer to 0 but never reaches 0."
   ]
  },
  {
   "cell_type": "markdown",
   "id": "8365d75e",
   "metadata": {},
   "source": [
    "Below is an example of a number raised to a large positive power:"
   ]
  },
  {
   "cell_type": "code",
   "execution_count": 22,
   "id": "f2c3d205",
   "metadata": {},
   "outputs": [
    {
     "data": {
      "text/plain": [
       "1267650600228229401496703205376"
      ]
     },
     "execution_count": 22,
     "metadata": {},
     "output_type": "execute_result"
    }
   ],
   "source": [
    "2 ** 100"
   ]
  },
  {
   "cell_type": "markdown",
   "id": "b0717002",
   "metadata": {},
   "source": [
    "Below is an example of a large negative power"
   ]
  },
  {
   "cell_type": "code",
   "execution_count": 1,
   "id": "4a4a0d85",
   "metadata": {},
   "outputs": [
    {
     "data": {
      "text/plain": [
       "1.8665272370064378e-301"
      ]
     },
     "execution_count": 1,
     "metadata": {},
     "output_type": "execute_result"
    }
   ],
   "source": [
    "2 ** -999\n",
    "\n",
    "#abs(0 - (2 ** -999))\n"
   ]
  },
  {
   "cell_type": "markdown",
   "id": "2148cfdd",
   "metadata": {},
   "source": [
    "If we choose any number x and raise this to a negative power, n, we want to see if $x^{-n}$ can reach zero \\\n",
    "that is equivalent to $\\frac{1}{x^n}$ \\\n",
    "as n increases, the numerator increases which moves the fraction towards zero\n",
    "we get the series $\\frac{1}{x^2} \\frac{1}{x^3} \\frac{1}{x^4}$ ...... $\\frac{1}{x^n}$"
   ]
  },
  {
   "cell_type": "markdown",
   "id": "a69e7235",
   "metadata": {},
   "source": [
    "As $b^{-N} -> 0$ then N -> ${+\\infty}$"
   ]
  },
  {
   "cell_type": "markdown",
   "id": "dc556153",
   "metadata": {},
   "source": [
    "The power needed to approach zero would approach  −∞ \\\n",
    "So this is undefined"
   ]
  },
  {
   "cell_type": "markdown",
   "id": "3245d87b",
   "metadata": {},
   "source": [
    "*******************    END ************************"
   ]
  },
  {
   "cell_type": "markdown",
   "id": "2b77c930",
   "metadata": {},
   "source": [
    "To Do:\n",
    "* Plot Log Function showing behaviour near 0\n",
    "* Taylor - MacLaurin Approx ?\n",
    "* Prove series is divergent ?"
   ]
  },
  {
   "cell_type": "code",
   "execution_count": null,
   "id": "a4558e05",
   "metadata": {},
   "outputs": [],
   "source": []
  },
  {
   "cell_type": "code",
   "execution_count": null,
   "id": "f6c494ec",
   "metadata": {},
   "outputs": [],
   "source": []
  },
  {
   "cell_type": "code",
   "execution_count": null,
   "id": "20ee9b49",
   "metadata": {},
   "outputs": [],
   "source": []
  },
  {
   "cell_type": "markdown",
   "id": "313a78a3",
   "metadata": {},
   "source": [
    "\n",
    "$\\exists$ y such that $b^{y} = 0$ \\\\\n",
    "\n",
    "$bb^{y-1} = 0$\n",
    "\n",
    "$$ b = {\\frac{0}{b^{y-1)}}} $$\n",
    "\n",
    "$$ b^{-2} = {\\frac{1}{b^2}} $$\n",
    "\n",
    "\n"
   ]
  },
  {
   "cell_type": "code",
   "execution_count": null,
   "id": "4b7a92a6",
   "metadata": {},
   "outputs": [],
   "source": []
  },
  {
   "cell_type": "markdown",
   "id": "b232c425",
   "metadata": {},
   "source": [
    "We know that for Y < 0, $b^{Y}$ tends toward 0\n",
    "$$\\lim_{y \\to -\\infty} b^{y} \\to 0$$"
   ]
  },
  {
   "cell_type": "markdown",
   "id": "df4788cf",
   "metadata": {},
   "source": [
    "$ \\log_n(n)=1\\\\ $   # different format"
   ]
  },
  {
   "cell_type": "markdown",
   "id": "92a3131a",
   "metadata": {},
   "source": [
    "This is equivalent to:\n",
    "$X = b^{Y}$\n",
    "\n"
   ]
  },
  {
   "cell_type": "markdown",
   "id": "448c02ee",
   "metadata": {},
   "source": [
    "To find an X to solve for \n",
    "$ log{_b}0 = X$ \n",
    "=> $ X = b^{Y} = 0$"
   ]
  },
  {
   "cell_type": "markdown",
   "id": "1565b002",
   "metadata": {},
   "source": [
    "$b^{0} = 1$"
   ]
  },
  {
   "cell_type": "markdown",
   "id": "9bcc4158",
   "metadata": {},
   "source": [
    "$b^{-1} = {\\frac{1}{b}}$"
   ]
  },
  {
   "cell_type": "markdown",
   "id": "10a7bbc6",
   "metadata": {},
   "source": []
  },
  {
   "cell_type": "markdown",
   "id": "60471111",
   "metadata": {},
   "source": [
    "$$ b^{-2} = {\\frac{1}{b^2}} $$"
   ]
  },
  {
   "cell_type": "markdown",
   "id": "4eff1af3",
   "metadata": {},
   "source": [
    "As $b^{-N} -> 0$ the N -> ${+\\infty}$"
   ]
  },
  {
   "cell_type": "markdown",
   "id": "5d8162c9",
   "metadata": {},
   "source": [
    "The power needed to reach zero would approach ${-\\infty}$"
   ]
  },
  {
   "cell_type": "code",
   "execution_count": null,
   "id": "60370ab0",
   "metadata": {},
   "outputs": [],
   "source": []
  }
 ],
 "metadata": {
  "kernelspec": {
   "display_name": "Python 3 (ipykernel)",
   "language": "python",
   "name": "python3"
  },
  "language_info": {
   "codemirror_mode": {
    "name": "ipython",
    "version": 3
   },
   "file_extension": ".py",
   "mimetype": "text/x-python",
   "name": "python",
   "nbconvert_exporter": "python",
   "pygments_lexer": "ipython3",
   "version": "3.9.7"
  }
 },
 "nbformat": 4,
 "nbformat_minor": 5
}

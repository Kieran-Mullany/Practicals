{
 "cells": [
  {
   "cell_type": "markdown",
   "id": "f6caa74c",
   "metadata": {},
   "source": [
    "# Problem 2:\n",
    "## Explain why the Log of zero is undefined."
   ]
  },
  {
   "cell_type": "markdown",
   "id": "7da73333",
   "metadata": {},
   "source": [
    "The log function is the inverse of the exponential function."
   ]
  },
  {
   "cell_type": "markdown",
   "id": "f48f515f",
   "metadata": {},
   "source": [
    "$Y = log{_b}{X} $"
   ]
  },
  {
   "cell_type": "markdown",
   "id": "92a3131a",
   "metadata": {},
   "source": [
    "This is equivalent to:\n",
    "$X = b^{Y}$\n",
    "\n"
   ]
  },
  {
   "cell_type": "markdown",
   "id": "448c02ee",
   "metadata": {},
   "source": [
    "To find an x to solve for $ X = log{_b}0 $ \n",
    "=> $ X = b^{Y} = 0$"
   ]
  },
  {
   "cell_type": "markdown",
   "id": "1565b002",
   "metadata": {},
   "source": [
    "$b^{0} = 1$"
   ]
  },
  {
   "cell_type": "markdown",
   "id": "9bcc4158",
   "metadata": {},
   "source": [
    "$b^{-1} = {\\frac{1}{b}}$"
   ]
  },
  {
   "cell_type": "code",
   "execution_count": null,
   "id": "917f69bf",
   "metadata": {},
   "outputs": [],
   "source": []
  }
 ],
 "metadata": {
  "kernelspec": {
   "display_name": "Python 3 (ipykernel)",
   "language": "python",
   "name": "python3"
  },
  "language_info": {
   "codemirror_mode": {
    "name": "ipython",
    "version": 3
   },
   "file_extension": ".py",
   "mimetype": "text/x-python",
   "name": "python",
   "nbconvert_exporter": "python",
   "pygments_lexer": "ipython3",
   "version": "3.9.13"
  }
 },
 "nbformat": 4,
 "nbformat_minor": 5
}
